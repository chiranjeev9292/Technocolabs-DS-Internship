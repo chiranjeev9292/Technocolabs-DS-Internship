{
  "nbformat": 4,
  "nbformat_minor": 5,
  "metadata": {
    "kernelspec": {
      "display_name": "Python 3",
      "language": "python",
      "name": "python3"
    },
    "language_info": {
      "codemirror_mode": {
        "name": "ipython",
        "version": 3
      },
      "file_extension": ".py",
      "mimetype": "text/x-python",
      "name": "python",
      "nbconvert_exporter": "python",
      "pygments_lexer": "ipython3",
      "version": "3.8.8"
    },
    "colab": {
      "name": "sentimental_analysis_amazonreviews_LSTM.ipynb",
      "provenance": [],
      "include_colab_link": true
    }
  },
  "cells": [
    {
      "cell_type": "markdown",
      "metadata": {
        "id": "view-in-github",
        "colab_type": "text"
      },
      "source": [
        "<a href=\"https://colab.research.google.com/github/chiranjeev9292/Technocolabs-DS-Internship/blob/main/sentimental_analysis_amazonreviews_LSTM.ipynb\" target=\"_parent\"><img src=\"https://colab.research.google.com/assets/colab-badge.svg\" alt=\"Open In Colab\"/></a>"
      ]
    },
    {
      "cell_type": "markdown",
      "metadata": {
        "id": "JdiHIdyyr4m1"
      },
      "source": [
        "# Task - Sentimental Analysis on Amazon Product Reviews"
      ],
      "id": "JdiHIdyyr4m1"
    },
    {
      "cell_type": "markdown",
      "metadata": {
        "id": "nMaGsvEr-aqo"
      },
      "source": [
        "## Author Chiranjeev Sharma"
      ],
      "id": "nMaGsvEr-aqo"
    },
    {
      "cell_type": "code",
      "metadata": {
        "id": "d1bbdea1"
      },
      "source": [
        "import pandas as pd\n",
        "import numpy as np\n",
        "import matplotlib.pyplot as plt\n",
        "import seaborn as sns\n",
        "import re\n",
        "from nltk.corpus import stopwords\n",
        "from nltk.stem.porter import PorterStemmer\n",
        "from sklearn.feature_extraction.text import TfidfVectorizer\n",
        "from nltk.tokenize import RegexpTokenizer\n",
        "from sklearn.model_selection import train_test_split\n",
        "from sklearn.metrics import classification_report,confusion_matrix"
      ],
      "id": "d1bbdea1",
      "execution_count": 1,
      "outputs": []
    },
    {
      "cell_type": "code",
      "metadata": {
        "colab": {
          "base_uri": "https://localhost:8080/"
        },
        "id": "wNrWAiq1rTjb",
        "outputId": "d5be1e5c-415e-40b4-c7de-5d6ad53386f7"
      },
      "source": [
        "from google.colab import drive\n",
        "drive.mount(\"/content/gdrive\")"
      ],
      "id": "wNrWAiq1rTjb",
      "execution_count": 2,
      "outputs": [
        {
          "output_type": "stream",
          "text": [
            "Mounted at /content/gdrive\n"
          ],
          "name": "stdout"
        }
      ]
    },
    {
      "cell_type": "code",
      "metadata": {
        "colab": {
          "base_uri": "https://localhost:8080/"
        },
        "id": "4RCvth-DrVUr",
        "outputId": "62d299c3-2df2-4b71-b206-5b533abf0d43"
      },
      "source": [
        "df1 = pd.read_csv('/content/gdrive/My Drive/Dataset/1429_1.csv')\n",
        "df2 = pd.read_csv('/content/gdrive/My Drive/Dataset/Datafiniti_Amazon_Consumer_Reviews_of_Amazon_Products_May19.csv')\n",
        "df3 = pd.read_csv('/content/gdrive/My Drive/Dataset/Datafiniti_Amazon_Consumer_Reviews_of_Amazon_Products.csv')"
      ],
      "id": "4RCvth-DrVUr",
      "execution_count": 3,
      "outputs": [
        {
          "output_type": "stream",
          "text": [
            "/usr/local/lib/python3.7/dist-packages/IPython/core/interactiveshell.py:2718: DtypeWarning: Columns (1,10) have mixed types.Specify dtype option on import or set low_memory=False.\n",
            "  interactivity=interactivity, compiler=compiler, result=result)\n"
          ],
          "name": "stderr"
        }
      ]
    },
    {
      "cell_type": "code",
      "metadata": {
        "colab": {
          "base_uri": "https://localhost:8080/",
          "height": 734
        },
        "id": "756befd9",
        "outputId": "d7896517-b1d2-451b-f495-f0a2074c1ec8"
      },
      "source": [
        "df1.head()"
      ],
      "id": "756befd9",
      "execution_count": 4,
      "outputs": [
        {
          "output_type": "execute_result",
          "data": {
            "text/html": [
              "<div>\n",
              "<style scoped>\n",
              "    .dataframe tbody tr th:only-of-type {\n",
              "        vertical-align: middle;\n",
              "    }\n",
              "\n",
              "    .dataframe tbody tr th {\n",
              "        vertical-align: top;\n",
              "    }\n",
              "\n",
              "    .dataframe thead th {\n",
              "        text-align: right;\n",
              "    }\n",
              "</style>\n",
              "<table border=\"1\" class=\"dataframe\">\n",
              "  <thead>\n",
              "    <tr style=\"text-align: right;\">\n",
              "      <th></th>\n",
              "      <th>id</th>\n",
              "      <th>name</th>\n",
              "      <th>asins</th>\n",
              "      <th>brand</th>\n",
              "      <th>categories</th>\n",
              "      <th>keys</th>\n",
              "      <th>manufacturer</th>\n",
              "      <th>reviews.date</th>\n",
              "      <th>reviews.dateAdded</th>\n",
              "      <th>reviews.dateSeen</th>\n",
              "      <th>reviews.didPurchase</th>\n",
              "      <th>reviews.doRecommend</th>\n",
              "      <th>reviews.id</th>\n",
              "      <th>reviews.numHelpful</th>\n",
              "      <th>reviews.rating</th>\n",
              "      <th>reviews.sourceURLs</th>\n",
              "      <th>reviews.text</th>\n",
              "      <th>reviews.title</th>\n",
              "      <th>reviews.userCity</th>\n",
              "      <th>reviews.userProvince</th>\n",
              "      <th>reviews.username</th>\n",
              "    </tr>\n",
              "  </thead>\n",
              "  <tbody>\n",
              "    <tr>\n",
              "      <th>0</th>\n",
              "      <td>AVqkIhwDv8e3D1O-lebb</td>\n",
              "      <td>All-New Fire HD 8 Tablet, 8 HD Display, Wi-Fi,...</td>\n",
              "      <td>B01AHB9CN2</td>\n",
              "      <td>Amazon</td>\n",
              "      <td>Electronics,iPad &amp; Tablets,All Tablets,Fire Ta...</td>\n",
              "      <td>841667104676,amazon/53004484,amazon/b01ahb9cn2...</td>\n",
              "      <td>Amazon</td>\n",
              "      <td>2017-01-13T00:00:00.000Z</td>\n",
              "      <td>2017-07-03T23:33:15Z</td>\n",
              "      <td>2017-06-07T09:04:00.000Z,2017-04-30T00:45:00.000Z</td>\n",
              "      <td>NaN</td>\n",
              "      <td>True</td>\n",
              "      <td>NaN</td>\n",
              "      <td>0.0</td>\n",
              "      <td>5.0</td>\n",
              "      <td>http://reviews.bestbuy.com/3545/5620406/review...</td>\n",
              "      <td>This product so far has not disappointed. My c...</td>\n",
              "      <td>Kindle</td>\n",
              "      <td>NaN</td>\n",
              "      <td>NaN</td>\n",
              "      <td>Adapter</td>\n",
              "    </tr>\n",
              "    <tr>\n",
              "      <th>1</th>\n",
              "      <td>AVqkIhwDv8e3D1O-lebb</td>\n",
              "      <td>All-New Fire HD 8 Tablet, 8 HD Display, Wi-Fi,...</td>\n",
              "      <td>B01AHB9CN2</td>\n",
              "      <td>Amazon</td>\n",
              "      <td>Electronics,iPad &amp; Tablets,All Tablets,Fire Ta...</td>\n",
              "      <td>841667104676,amazon/53004484,amazon/b01ahb9cn2...</td>\n",
              "      <td>Amazon</td>\n",
              "      <td>2017-01-13T00:00:00.000Z</td>\n",
              "      <td>2017-07-03T23:33:15Z</td>\n",
              "      <td>2017-06-07T09:04:00.000Z,2017-04-30T00:45:00.000Z</td>\n",
              "      <td>NaN</td>\n",
              "      <td>True</td>\n",
              "      <td>NaN</td>\n",
              "      <td>0.0</td>\n",
              "      <td>5.0</td>\n",
              "      <td>http://reviews.bestbuy.com/3545/5620406/review...</td>\n",
              "      <td>great for beginner or experienced person. Boug...</td>\n",
              "      <td>very fast</td>\n",
              "      <td>NaN</td>\n",
              "      <td>NaN</td>\n",
              "      <td>truman</td>\n",
              "    </tr>\n",
              "    <tr>\n",
              "      <th>2</th>\n",
              "      <td>AVqkIhwDv8e3D1O-lebb</td>\n",
              "      <td>All-New Fire HD 8 Tablet, 8 HD Display, Wi-Fi,...</td>\n",
              "      <td>B01AHB9CN2</td>\n",
              "      <td>Amazon</td>\n",
              "      <td>Electronics,iPad &amp; Tablets,All Tablets,Fire Ta...</td>\n",
              "      <td>841667104676,amazon/53004484,amazon/b01ahb9cn2...</td>\n",
              "      <td>Amazon</td>\n",
              "      <td>2017-01-13T00:00:00.000Z</td>\n",
              "      <td>2017-07-03T23:33:15Z</td>\n",
              "      <td>2017-06-07T09:04:00.000Z,2017-04-30T00:45:00.000Z</td>\n",
              "      <td>NaN</td>\n",
              "      <td>True</td>\n",
              "      <td>NaN</td>\n",
              "      <td>0.0</td>\n",
              "      <td>5.0</td>\n",
              "      <td>http://reviews.bestbuy.com/3545/5620406/review...</td>\n",
              "      <td>Inexpensive tablet for him to use and learn on...</td>\n",
              "      <td>Beginner tablet for our 9 year old son.</td>\n",
              "      <td>NaN</td>\n",
              "      <td>NaN</td>\n",
              "      <td>DaveZ</td>\n",
              "    </tr>\n",
              "    <tr>\n",
              "      <th>3</th>\n",
              "      <td>AVqkIhwDv8e3D1O-lebb</td>\n",
              "      <td>All-New Fire HD 8 Tablet, 8 HD Display, Wi-Fi,...</td>\n",
              "      <td>B01AHB9CN2</td>\n",
              "      <td>Amazon</td>\n",
              "      <td>Electronics,iPad &amp; Tablets,All Tablets,Fire Ta...</td>\n",
              "      <td>841667104676,amazon/53004484,amazon/b01ahb9cn2...</td>\n",
              "      <td>Amazon</td>\n",
              "      <td>2017-01-13T00:00:00.000Z</td>\n",
              "      <td>2017-07-03T23:33:15Z</td>\n",
              "      <td>2017-06-07T09:04:00.000Z,2017-04-30T00:45:00.000Z</td>\n",
              "      <td>NaN</td>\n",
              "      <td>True</td>\n",
              "      <td>NaN</td>\n",
              "      <td>0.0</td>\n",
              "      <td>4.0</td>\n",
              "      <td>http://reviews.bestbuy.com/3545/5620406/review...</td>\n",
              "      <td>I've had my Fire HD 8 two weeks now and I love...</td>\n",
              "      <td>Good!!!</td>\n",
              "      <td>NaN</td>\n",
              "      <td>NaN</td>\n",
              "      <td>Shacks</td>\n",
              "    </tr>\n",
              "    <tr>\n",
              "      <th>4</th>\n",
              "      <td>AVqkIhwDv8e3D1O-lebb</td>\n",
              "      <td>All-New Fire HD 8 Tablet, 8 HD Display, Wi-Fi,...</td>\n",
              "      <td>B01AHB9CN2</td>\n",
              "      <td>Amazon</td>\n",
              "      <td>Electronics,iPad &amp; Tablets,All Tablets,Fire Ta...</td>\n",
              "      <td>841667104676,amazon/53004484,amazon/b01ahb9cn2...</td>\n",
              "      <td>Amazon</td>\n",
              "      <td>2017-01-12T00:00:00.000Z</td>\n",
              "      <td>2017-07-03T23:33:15Z</td>\n",
              "      <td>2017-06-07T09:04:00.000Z,2017-04-30T00:45:00.000Z</td>\n",
              "      <td>NaN</td>\n",
              "      <td>True</td>\n",
              "      <td>NaN</td>\n",
              "      <td>0.0</td>\n",
              "      <td>5.0</td>\n",
              "      <td>http://reviews.bestbuy.com/3545/5620406/review...</td>\n",
              "      <td>I bought this for my grand daughter when she c...</td>\n",
              "      <td>Fantastic Tablet for kids</td>\n",
              "      <td>NaN</td>\n",
              "      <td>NaN</td>\n",
              "      <td>explore42</td>\n",
              "    </tr>\n",
              "  </tbody>\n",
              "</table>\n",
              "</div>"
            ],
            "text/plain": [
              "                     id  ... reviews.username\n",
              "0  AVqkIhwDv8e3D1O-lebb  ...          Adapter\n",
              "1  AVqkIhwDv8e3D1O-lebb  ...           truman\n",
              "2  AVqkIhwDv8e3D1O-lebb  ...            DaveZ\n",
              "3  AVqkIhwDv8e3D1O-lebb  ...           Shacks\n",
              "4  AVqkIhwDv8e3D1O-lebb  ...        explore42\n",
              "\n",
              "[5 rows x 21 columns]"
            ]
          },
          "metadata": {
            "tags": []
          },
          "execution_count": 4
        }
      ]
    },
    {
      "cell_type": "code",
      "metadata": {
        "colab": {
          "base_uri": "https://localhost:8080/",
          "height": 204
        },
        "id": "e2ff051b",
        "outputId": "1dd3101a-4dd8-4dbf-de1f-817b0d0aded0"
      },
      "source": [
        "df1 = df1[['reviews.rating' , 'reviews.text']]\n",
        "df1=df1.dropna()\n",
        "df1.head()"
      ],
      "id": "e2ff051b",
      "execution_count": 5,
      "outputs": [
        {
          "output_type": "execute_result",
          "data": {
            "text/html": [
              "<div>\n",
              "<style scoped>\n",
              "    .dataframe tbody tr th:only-of-type {\n",
              "        vertical-align: middle;\n",
              "    }\n",
              "\n",
              "    .dataframe tbody tr th {\n",
              "        vertical-align: top;\n",
              "    }\n",
              "\n",
              "    .dataframe thead th {\n",
              "        text-align: right;\n",
              "    }\n",
              "</style>\n",
              "<table border=\"1\" class=\"dataframe\">\n",
              "  <thead>\n",
              "    <tr style=\"text-align: right;\">\n",
              "      <th></th>\n",
              "      <th>reviews.rating</th>\n",
              "      <th>reviews.text</th>\n",
              "    </tr>\n",
              "  </thead>\n",
              "  <tbody>\n",
              "    <tr>\n",
              "      <th>0</th>\n",
              "      <td>5.0</td>\n",
              "      <td>This product so far has not disappointed. My c...</td>\n",
              "    </tr>\n",
              "    <tr>\n",
              "      <th>1</th>\n",
              "      <td>5.0</td>\n",
              "      <td>great for beginner or experienced person. Boug...</td>\n",
              "    </tr>\n",
              "    <tr>\n",
              "      <th>2</th>\n",
              "      <td>5.0</td>\n",
              "      <td>Inexpensive tablet for him to use and learn on...</td>\n",
              "    </tr>\n",
              "    <tr>\n",
              "      <th>3</th>\n",
              "      <td>4.0</td>\n",
              "      <td>I've had my Fire HD 8 two weeks now and I love...</td>\n",
              "    </tr>\n",
              "    <tr>\n",
              "      <th>4</th>\n",
              "      <td>5.0</td>\n",
              "      <td>I bought this for my grand daughter when she c...</td>\n",
              "    </tr>\n",
              "  </tbody>\n",
              "</table>\n",
              "</div>"
            ],
            "text/plain": [
              "   reviews.rating                                       reviews.text\n",
              "0             5.0  This product so far has not disappointed. My c...\n",
              "1             5.0  great for beginner or experienced person. Boug...\n",
              "2             5.0  Inexpensive tablet for him to use and learn on...\n",
              "3             4.0  I've had my Fire HD 8 two weeks now and I love...\n",
              "4             5.0  I bought this for my grand daughter when she c..."
            ]
          },
          "metadata": {
            "tags": []
          },
          "execution_count": 5
        }
      ]
    },
    {
      "cell_type": "code",
      "metadata": {
        "colab": {
          "base_uri": "https://localhost:8080/",
          "height": 282
        },
        "id": "a5076343",
        "outputId": "3aa91319-c77d-485a-c502-871e5df0c397"
      },
      "source": [
        "counts = df1['reviews.rating'].value_counts()\n",
        "sns.barplot(x=counts.index, y=counts.values)\n",
        "# sns.show()"
      ],
      "id": "a5076343",
      "execution_count": 6,
      "outputs": [
        {
          "output_type": "execute_result",
          "data": {
            "text/plain": [
              "<matplotlib.axes._subplots.AxesSubplot at 0x7fd5a077a9d0>"
            ]
          },
          "metadata": {
            "tags": []
          },
          "execution_count": 6
        },
        {
          "output_type": "display_data",
          "data": {
            "image/png": "[encoded data removed]",
            "text/plain": [
              "<Figure size 432x288 with 1 Axes>"
            ]
          },
          "metadata": {
            "tags": [],
            "needs_background": "light"
          }
        }
      ]
    },
    {
      "cell_type": "code",
      "metadata": {
        "id": "721e0aae"
      },
      "source": [
        "# df2 = pd.read_csv(\"Datafiniti_Amazon_Consumer_Reviews_of_Amazon_Products_May19.csv\")\n",
        "df2 = df2[['reviews.rating' , 'reviews.text']]\n",
        "df2 = df2[df2[\"reviews.rating\"]<=3]\n",
        "\n",
        "# df3 = pd.read_csv(\"Datafiniti_Amazon_Consumer_Reviews_of_Amazon_Products.csv\")\n",
        "df3 = df3[['reviews.rating' , 'reviews.text']]\n",
        "df3 = df3[df3[\"reviews.rating\"]<=3]\n",
        "\n",
        "frames = [df1, df2, df3]\n",
        "data = pd.concat(frames)\n",
        "data = data.dropna()"
      ],
      "id": "721e0aae",
      "execution_count": 8,
      "outputs": []
    },
    {
      "cell_type": "code",
      "metadata": {
        "id": "2f8f050f"
      },
      "source": [
        "sentiment = {1: 0, 2: 0, 3: 1, 4: 2, 5: 2}\n",
        "\n",
        "data[\"sentiment\"] = data[\"reviews.rating\"].map(sentiment)\n",
        "\n",
        "\n",
        "data[\"sentiment\"] = pd.to_numeric(data[\"sentiment\"], errors='coerce')                                    \n",
        "data = data.dropna(subset=[\"sentiment\"])\n",
        "data[\"sentiment\"]  = data[\"sentiment\"] .astype(int)"
      ],
      "id": "2f8f050f",
      "execution_count": 9,
      "outputs": []
    },
    {
      "cell_type": "code",
      "metadata": {
        "colab": {
          "base_uri": "https://localhost:8080/"
        },
        "id": "287b1786",
        "outputId": "4b4d738d-df3e-4492-e56a-73ad33fe1198"
      },
      "source": [
        "import nltk\n",
        "nltk.download('stopwords')\n",
        "data[\"reviews.text\"]=data[\"reviews.text\"].apply(lambda elem: re.sub(\"[^a-zA-Z]\", \" \", str(elem)))\n",
        "data[\"reviews.text\"]=data[\"reviews.text\"].str.lower()\n",
        "words_descriptions = data[\"reviews.text\"].str.split()\n",
        "\n",
        "stopword_list = stopwords.words('english')\n",
        "ps = PorterStemmer()\n",
        "words_descriptions = words_descriptions.apply(lambda elem: [word for word in elem if not word in stopword_list])\n",
        "words_descriptions = words_descriptions.apply(lambda elem: [ps.stem(word) for word in elem])\n",
        "\n",
        "data['cleaned'] = words_descriptions.apply(lambda elem: ' '.join(elem))\n",
        "data['cleaned'].head()\n"
      ],
      "id": "287b1786",
      "execution_count": 11,
      "outputs": [
        {
          "output_type": "stream",
          "text": [
            "[nltk_data] Downloading package stopwords to /root/nltk_data...\n",
            "[nltk_data]   Unzipping corpora/stopwords.zip.\n"
          ],
          "name": "stdout"
        },
        {
          "output_type": "execute_result",
          "data": {
            "text/plain": [
              "0    product far disappoint children love use like ...\n",
              "1       great beginn experienc person bought gift love\n",
              "2    inexpens tablet use learn step nabi thrill lea...\n",
              "3    fire hd two week love tablet great valu prime ...\n",
              "4    bought grand daughter come visit set user ente...\n",
              "Name: cleaned, dtype: object"
            ]
          },
          "metadata": {
            "tags": []
          },
          "execution_count": 11
        }
      ]
    },
    {
      "cell_type": "code",
      "metadata": {
        "id": "495c0718"
      },
      "source": [
        "vectorizer =TfidfVectorizer()\n",
        "text = vectorizer.fit_transform(data['cleaned']).toarray()\n",
        "texts=pd.DataFrame(text)"
      ],
      "id": "495c0718",
      "execution_count": 12,
      "outputs": []
    },
    {
      "cell_type": "code",
      "metadata": {
        "id": "4ec1e006"
      },
      "source": [
        "y=data[\"sentiment\"].values\n",
        "X=pd.DataFrame(text)\n",
        "X_train, X_test, y_train, y_test = train_test_split(X, y, test_size = 0.20, random_state = 42)"
      ],
      "id": "4ec1e006",
      "execution_count": 13,
      "outputs": []
    },
    {
      "cell_type": "code",
      "metadata": {
        "colab": {
          "base_uri": "https://localhost:8080/"
        },
        "id": "512770cc",
        "outputId": "c66eac6f-140c-4841-cb36-532bc8425f82"
      },
      "source": [
        "from sklearn.linear_model import LogisticRegression\n",
        "lr=LogisticRegression(verbose=1, solver='liblinear',random_state=0, C=5, penalty='l2',max_iter=1000)\n",
        "lr.fit(X_train,y_train)"
      ],
      "id": "512770cc",
      "execution_count": 14,
      "outputs": [
        {
          "output_type": "stream",
          "text": [
            "[LibLinear]"
          ],
          "name": "stdout"
        },
        {
          "output_type": "execute_result",
          "data": {
            "text/plain": [
              "LogisticRegression(C=5, class_weight=None, dual=False, fit_intercept=True,\n",
              "                   intercept_scaling=1, l1_ratio=None, max_iter=1000,\n",
              "                   multi_class='auto', n_jobs=None, penalty='l2',\n",
              "                   random_state=0, solver='liblinear', tol=0.0001, verbose=1,\n",
              "                   warm_start=False)"
            ]
          },
          "metadata": {
            "tags": []
          },
          "execution_count": 14
        }
      ]
    },
    {
      "cell_type": "code",
      "metadata": {
        "colab": {
          "base_uri": "https://localhost:8080/"
        },
        "id": "99b67e8f",
        "outputId": "ee3a5be0-0f92-45b6-e349-c65e82f3393d"
      },
      "source": [
        "print('Train accuracy :', (lr.score(X_train, y_train))*100)\n",
        "print('Test accuracy :', (lr.score(X_test, y_test))*100)\n",
        "      \n",
        "print('\\n CONFUSION MATRIX')\n",
        "print(confusion_matrix(y_test, lr.predict(X_test)))\n",
        "print('\\nCLASSIFICATION REPORT')\n",
        "print(classification_report(y_test, lr.predict(X_test)))"
      ],
      "id": "99b67e8f",
      "execution_count": 15,
      "outputs": [
        {
          "output_type": "stream",
          "text": [
            "Train accuracy : 93.46277459328716\n",
            "Test accuracy : 90.88258680095414\n",
            "\n",
            " CONFUSION MATRIX\n",
            "[[ 324   45  148]\n",
            " [  56  207  326]\n",
            " [  29   84 6327]]\n",
            "\n",
            "CLASSIFICATION REPORT\n",
            "              precision    recall  f1-score   support\n",
            "\n",
            "           0       0.79      0.63      0.70       517\n",
            "           1       0.62      0.35      0.45       589\n",
            "           2       0.93      0.98      0.96      6440\n",
            "\n",
            "    accuracy                           0.91      7546\n",
            "   macro avg       0.78      0.65      0.70      7546\n",
            "weighted avg       0.90      0.91      0.90      7546\n",
            "\n"
          ],
          "name": "stdout"
        }
      ]
    },
    {
      "cell_type": "code",
      "metadata": {
        "colab": {
          "base_uri": "https://localhost:8080/"
        },
        "id": "67a41aac",
        "outputId": "e2b95f42-6523-495f-b02d-9b20071054c6"
      },
      "source": [
        "from sklearn.naive_bayes import MultinomialNB\n",
        "nb = MultinomialNB()\n",
        "nb.fit(X_train, y_train)"
      ],
      "id": "67a41aac",
      "execution_count": 16,
      "outputs": [
        {
          "output_type": "execute_result",
          "data": {
            "text/plain": [
              "MultinomialNB(alpha=1.0, class_prior=None, fit_prior=True)"
            ]
          },
          "metadata": {
            "tags": []
          },
          "execution_count": 16
        }
      ]
    },
    {
      "cell_type": "code",
      "metadata": {
        "colab": {
          "base_uri": "https://localhost:8080/"
        },
        "id": "34f53cfd",
        "outputId": "7beba4a3-7bcd-4c49-8569-3f04a8d875ad"
      },
      "source": [
        "print('Train accuracy :', (nb.score(X_train, y_train))*100)\n",
        "print('Test accuracy :', (nb.score(X_test, y_test))*100)\n",
        "      \n",
        "print('\\n CONFUSION MATRIX')\n",
        "print(confusion_matrix(y_test, nb.predict(X_test)))\n",
        "print('\\nCLASSIFICATION REPORT')\n",
        "print(classification_report(y_test, nb.predict(X_test)))"
      ],
      "id": "34f53cfd",
      "execution_count": 17,
      "outputs": [
        {
          "output_type": "stream",
          "text": [
            "Train accuracy : 87.65448460952254\n",
            "Test accuracy : 87.0924993373973\n",
            "\n",
            " CONFUSION MATRIX\n",
            "[[ 129    4  384]\n",
            " [  29    7  553]\n",
            " [   2    2 6436]]\n",
            "\n",
            "CLASSIFICATION REPORT\n",
            "              precision    recall  f1-score   support\n",
            "\n",
            "           0       0.81      0.25      0.38       517\n",
            "           1       0.54      0.01      0.02       589\n",
            "           2       0.87      1.00      0.93      6440\n",
            "\n",
            "    accuracy                           0.87      7546\n",
            "   macro avg       0.74      0.42      0.45      7546\n",
            "weighted avg       0.84      0.87      0.82      7546\n",
            "\n"
          ],
          "name": "stdout"
        }
      ]
    },
    {
      "cell_type": "code",
      "metadata": {
        "colab": {
          "base_uri": "https://localhost:8080/"
        },
        "id": "4a50a0f8",
        "outputId": "98786242-5e35-4ebf-a566-926fedc5887c"
      },
      "source": [
        "from sklearn.naive_bayes import BernoulliNB\n",
        "dt = BernoulliNB()\n",
        "dt.fit(X_train,y_train)"
      ],
      "id": "4a50a0f8",
      "execution_count": 18,
      "outputs": [
        {
          "output_type": "execute_result",
          "data": {
            "text/plain": [
              "BernoulliNB(alpha=1.0, binarize=0.0, class_prior=None, fit_prior=True)"
            ]
          },
          "metadata": {
            "tags": []
          },
          "execution_count": 18
        }
      ]
    },
    {
      "cell_type": "code",
      "metadata": {
        "colab": {
          "base_uri": "https://localhost:8080/"
        },
        "id": "7745275e",
        "outputId": "34b1aea1-71cc-4450-8c02-af8b028e7ff8"
      },
      "source": [
        "print('Train accuracy :', (dt.score(X_train, y_train))*100)\n",
        "print('Test accuracy :', (dt.score(X_test, y_test))*100)\n",
        "      \n",
        "print('\\n CONFUSION MATRIX')\n",
        "print(confusion_matrix(y_test, dt.predict(X_test)))\n",
        "print('\\nCLASSIFICATION REPORT')\n",
        "print(classification_report(y_test, dt.predict(X_test)))"
      ],
      "id": "7745275e",
      "execution_count": 19,
      "outputs": [
        {
          "output_type": "stream",
          "text": [
            "Train accuracy : 87.93611875020709\n",
            "Test accuracy : 86.46965279618341\n",
            "\n",
            " CONFUSION MATRIX\n",
            "[[ 248   34  235]\n",
            " [  62  136  391]\n",
            " [  99  200 6141]]\n",
            "\n",
            "CLASSIFICATION REPORT\n",
            "              precision    recall  f1-score   support\n",
            "\n",
            "           0       0.61      0.48      0.54       517\n",
            "           1       0.37      0.23      0.28       589\n",
            "           2       0.91      0.95      0.93      6440\n",
            "\n",
            "    accuracy                           0.86      7546\n",
            "   macro avg       0.63      0.55      0.58      7546\n",
            "weighted avg       0.84      0.86      0.85      7546\n",
            "\n"
          ],
          "name": "stdout"
        }
      ]
    },
    {
      "cell_type": "code",
      "metadata": {
        "id": "1d76f803"
      },
      "source": [
        "from keras.utils import np_utils\n",
        "from keras.preprocessing.text import Tokenizer\n",
        "from keras.preprocessing.sequence import pad_sequences\n",
        "from keras.models import Sequential\n",
        "from keras.callbacks import EarlyStopping\n",
        "from keras.optimizers import Adam\n",
        "from keras.layers import Dense, Embedding, GRU, Dropout, LSTM, Bidirectional\n",
        "from keras.layers import GlobalMaxPooling1D"
      ],
      "id": "1d76f803",
      "execution_count": 20,
      "outputs": []
    },
    {
      "cell_type": "code",
      "metadata": {
        "id": "0d0ab084"
      },
      "source": [
        "token = Tokenizer()\n",
        "token.fit_on_texts(data[\"reviews.text\"])\n",
        "word_index = token.word_index\n",
        "max_len = 120\n",
        "X_train, X_test, y_train, y_test = train_test_split(data[\"reviews.text\"], data[\"sentiment\"], test_size=0.25, random_state=42)"
      ],
      "id": "0d0ab084",
      "execution_count": 21,
      "outputs": []
    },
    {
      "cell_type": "code",
      "metadata": {
        "colab": {
          "base_uri": "https://localhost:8080/"
        },
        "id": "e47c679d",
        "outputId": "1a84d3ed-4c45-419d-ed7d-37c61b5fe67d"
      },
      "source": [
        "X_train = token.texts_to_sequences(X_train)\n",
        "X_train = pad_sequences(X_train, maxlen=max_len, padding = \"post\",truncating = \"post\")\n",
        "\n",
        "X_test = token.texts_to_sequences(X_test)\n",
        "X_test = pad_sequences(X_test, maxlen=max_len, padding = \"post\", truncating = \"post\")\n",
        "\n",
        "y_train = np_utils.to_categorical(y_train, num_classes=3)\n",
        "y_test = np_utils.to_categorical(y_test, num_classes=3)\n",
        "\n",
        "len(y_test),len(X_test),len(X_train),len(y_train)"
      ],
      "id": "e47c679d",
      "execution_count": 22,
      "outputs": [
        {
          "output_type": "execute_result",
          "data": {
            "text/plain": [
              "(9432, 9432, 28295, 28295)"
            ]
          },
          "metadata": {
            "tags": []
          },
          "execution_count": 22
        }
      ]
    },
    {
      "cell_type": "code",
      "metadata": {
        "colab": {
          "base_uri": "https://localhost:8080/"
        },
        "id": "46e5d8b9",
        "outputId": "464e1511-2bd0-4317-d7bc-02c7144a3a5d"
      },
      "source": [
        "vocab_size = len(word_index)+1\n",
        "embedding_dim = 16\n",
        "optimizer = Adam(lr=0.0001, decay=0.0001)\n",
        "\n",
        "model = Sequential()\n",
        "model.add(Embedding(vocab_size, embedding_dim , input_length=max_len))\n",
        "model.add(LSTM(150, return_sequences=True))\n",
        "model.add(LSTM(150, return_sequences=False))\n",
        "model.add(Dense(100, activation='relu'))\n",
        "model.add(Dense(3, activation='softmax'))\n",
        "model.summary()"
      ],
      "id": "46e5d8b9",
      "execution_count": 23,
      "outputs": [
        {
          "output_type": "stream",
          "text": [
            "/usr/local/lib/python3.7/dist-packages/tensorflow/python/keras/optimizer_v2/optimizer_v2.py:375: UserWarning: The `lr` argument is deprecated, use `learning_rate` instead.\n",
            "  \"The `lr` argument is deprecated, use `learning_rate` instead.\")\n"
          ],
          "name": "stderr"
        },
        {
          "output_type": "stream",
          "text": [
            "Model: \"sequential\"\n",
            "_________________________________________________________________\n",
            "Layer (type)                 Output Shape              Param #   \n",
            "=================================================================\n",
            "embedding (Embedding)        (None, 120, 16)           225696    \n",
            "_________________________________________________________________\n",
            "lstm (LSTM)                  (None, 120, 150)          100200    \n",
            "_________________________________________________________________\n",
            "lstm_1 (LSTM)                (None, 150)               180600    \n",
            "_________________________________________________________________\n",
            "dense (Dense)                (None, 100)               15100     \n",
            "_________________________________________________________________\n",
            "dense_1 (Dense)              (None, 3)                 303       \n",
            "=================================================================\n",
            "Total params: 521,899\n",
            "Trainable params: 521,899\n",
            "Non-trainable params: 0\n",
            "_________________________________________________________________\n"
          ],
          "name": "stdout"
        }
      ]
    },
    {
      "cell_type": "code",
      "metadata": {
        "colab": {
          "base_uri": "https://localhost:8080/"
        },
        "id": "06cdd7f6",
        "outputId": "87ff5077-7924-4349-ff73-24ab3c94c0a7"
      },
      "source": [
        "model.compile(loss='binary_crossentropy', optimizer=optimizer, metrics=['accuracy'])\n",
        "model.fit(X_train, y_train, batch_size=16, epochs=8)"
      ],
      "id": "06cdd7f6",
      "execution_count": 24,
      "outputs": [
        {
          "output_type": "stream",
          "text": [
            "Epoch 1/8\n",
            "1769/1769 [==============================] - 539s 292ms/step - loss: 0.3399 - accuracy: 0.8499\n",
            "Epoch 2/8\n",
            "1769/1769 [==============================] - 520s 294ms/step - loss: 0.1941 - accuracy: 0.8899\n",
            "Epoch 3/8\n",
            "1769/1769 [==============================] - 521s 295ms/step - loss: 0.1743 - accuracy: 0.8933\n",
            "Epoch 4/8\n",
            "1769/1769 [==============================] - 528s 299ms/step - loss: 0.1598 - accuracy: 0.9046\n",
            "Epoch 5/8\n",
            "1769/1769 [==============================] - 527s 298ms/step - loss: 0.1566 - accuracy: 0.9049\n",
            "Epoch 6/8\n",
            "1769/1769 [==============================] - 528s 298ms/step - loss: 0.1440 - accuracy: 0.9135\n",
            "Epoch 7/8\n",
            "1769/1769 [==============================] - 523s 296ms/step - loss: 0.1386 - accuracy: 0.9186\n",
            "Epoch 8/8\n",
            "1769/1769 [==============================] - 522s 295ms/step - loss: 0.1338 - accuracy: 0.9241\n"
          ],
          "name": "stdout"
        },
        {
          "output_type": "execute_result",
          "data": {
            "text/plain": [
              "<keras.callbacks.History at 0x7fd597025510>"
            ]
          },
          "metadata": {
            "tags": []
          },
          "execution_count": 24
        }
      ]
    },
    {
      "cell_type": "code",
      "metadata": {
        "colab": {
          "base_uri": "https://localhost:8080/"
        },
        "id": "21c9fdd2",
        "outputId": "c922f848-d407-469e-e8ca-3b8232468a7b"
      },
      "source": [
        "result = model.evaluate(X_train, y_train)\n",
        "print( 'Train accuracy :' , result[1]*100)\n",
        "result = model.evaluate(X_test,y_test)\n",
        "print( 'Test accuracy :' , result[1]*100)"
      ],
      "id": "21c9fdd2",
      "execution_count": 25,
      "outputs": [
        {
          "output_type": "stream",
          "text": [
            "885/885 [==============================] - 84s 93ms/step - loss: 0.1284 - accuracy: 0.9287\n",
            "Train accuracy : 92.87153482437134\n",
            "295/295 [==============================] - 27s 92ms/step - loss: 0.1765 - accuracy: 0.8954\n",
            "Test accuracy : 89.53562378883362\n"
          ],
          "name": "stdout"
        }
      ]
    }
  ]
}